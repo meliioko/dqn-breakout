{
  "cells": [
    {
      "cell_type": "code",
      "execution_count": 1,
      "metadata": {
        "execution": {
          "iopub.execute_input": "2023-11-04T12:20:10.465396Z",
          "iopub.status.busy": "2023-11-04T12:20:10.464994Z",
          "iopub.status.idle": "2023-11-04T12:20:22.670564Z",
          "shell.execute_reply": "2023-11-04T12:20:22.669338Z",
          "shell.execute_reply.started": "2023-11-04T12:20:10.465363Z"
        },
        "id": "hLvatxY5Wqp8",
        "outputId": "31ce4921-3de0-4a71-e9a7-fbe620fe4142",
        "trusted": true,
        "colab": {
          "base_uri": "https://localhost:8080/"
        }
      },
      "outputs": [
        {
          "output_type": "stream",
          "name": "stdout",
          "text": [
            "Requirement already satisfied: gym in /usr/local/lib/python3.10/dist-packages (0.26.2)\n",
            "Requirement already satisfied: tensorflow in /usr/local/lib/python3.10/dist-packages (2.14.0)\n",
            "Requirement already satisfied: keras in /usr/local/lib/python3.10/dist-packages (2.14.0)\n",
            "Requirement already satisfied: autorom in /usr/local/lib/python3.10/dist-packages (0.4.2)\n",
            "Collecting autorom\n",
            "  Using cached AutoROM-0.6.1-py3-none-any.whl (9.4 kB)\n",
            "Requirement already satisfied: torch in /usr/local/lib/python3.10/dist-packages (2.1.0+cu118)\n",
            "Requirement already satisfied: numpy>=1.18.0 in /usr/local/lib/python3.10/dist-packages (from gym) (1.23.5)\n",
            "Requirement already satisfied: cloudpickle>=1.2.0 in /usr/local/lib/python3.10/dist-packages (from gym) (2.2.1)\n",
            "Requirement already satisfied: gym-notices>=0.0.4 in /usr/local/lib/python3.10/dist-packages (from gym) (0.0.8)\n",
            "Requirement already satisfied: lz4>=3.1.0 in /usr/local/lib/python3.10/dist-packages (from gym) (4.3.2)\n",
            "Requirement already satisfied: opencv-python>=3.0 in /usr/local/lib/python3.10/dist-packages (from gym) (4.8.0.76)\n",
            "Requirement already satisfied: matplotlib>=3.0 in /usr/local/lib/python3.10/dist-packages (from gym) (3.7.1)\n",
            "Requirement already satisfied: moviepy>=1.0.0 in /usr/local/lib/python3.10/dist-packages (from gym) (1.0.3)\n",
            "Requirement already satisfied: absl-py>=1.0.0 in /usr/local/lib/python3.10/dist-packages (from tensorflow) (1.4.0)\n",
            "Requirement already satisfied: astunparse>=1.6.0 in /usr/local/lib/python3.10/dist-packages (from tensorflow) (1.6.3)\n",
            "Requirement already satisfied: flatbuffers>=23.5.26 in /usr/local/lib/python3.10/dist-packages (from tensorflow) (23.5.26)\n",
            "Requirement already satisfied: gast!=0.5.0,!=0.5.1,!=0.5.2,>=0.2.1 in /usr/local/lib/python3.10/dist-packages (from tensorflow) (0.5.4)\n",
            "Requirement already satisfied: google-pasta>=0.1.1 in /usr/local/lib/python3.10/dist-packages (from tensorflow) (0.2.0)\n",
            "Requirement already satisfied: h5py>=2.9.0 in /usr/local/lib/python3.10/dist-packages (from tensorflow) (3.9.0)\n",
            "Requirement already satisfied: libclang>=13.0.0 in /usr/local/lib/python3.10/dist-packages (from tensorflow) (16.0.6)\n",
            "Requirement already satisfied: ml-dtypes==0.2.0 in /usr/local/lib/python3.10/dist-packages (from tensorflow) (0.2.0)\n",
            "Requirement already satisfied: opt-einsum>=2.3.2 in /usr/local/lib/python3.10/dist-packages (from tensorflow) (3.3.0)\n",
            "Requirement already satisfied: packaging in /usr/local/lib/python3.10/dist-packages (from tensorflow) (23.2)\n",
            "Requirement already satisfied: protobuf!=4.21.0,!=4.21.1,!=4.21.2,!=4.21.3,!=4.21.4,!=4.21.5,<5.0.0dev,>=3.20.3 in /usr/local/lib/python3.10/dist-packages (from tensorflow) (3.20.3)\n",
            "Requirement already satisfied: setuptools in /usr/local/lib/python3.10/dist-packages (from tensorflow) (67.7.2)\n",
            "Requirement already satisfied: six>=1.12.0 in /usr/local/lib/python3.10/dist-packages (from tensorflow) (1.16.0)\n",
            "Requirement already satisfied: termcolor>=1.1.0 in /usr/local/lib/python3.10/dist-packages (from tensorflow) (2.3.0)\n",
            "Requirement already satisfied: typing-extensions>=3.6.6 in /usr/local/lib/python3.10/dist-packages (from tensorflow) (4.5.0)\n",
            "Requirement already satisfied: wrapt<1.15,>=1.11.0 in /usr/local/lib/python3.10/dist-packages (from tensorflow) (1.14.1)\n",
            "Requirement already satisfied: tensorflow-io-gcs-filesystem>=0.23.1 in /usr/local/lib/python3.10/dist-packages (from tensorflow) (0.34.0)\n",
            "Requirement already satisfied: grpcio<2.0,>=1.24.3 in /usr/local/lib/python3.10/dist-packages (from tensorflow) (1.59.0)\n",
            "Requirement already satisfied: tensorboard<2.15,>=2.14 in /usr/local/lib/python3.10/dist-packages (from tensorflow) (2.14.1)\n",
            "Requirement already satisfied: tensorflow-estimator<2.15,>=2.14.0 in /usr/local/lib/python3.10/dist-packages (from tensorflow) (2.14.0)\n",
            "Requirement already satisfied: click in /usr/local/lib/python3.10/dist-packages (from autorom) (8.1.7)\n",
            "Requirement already satisfied: requests in /usr/local/lib/python3.10/dist-packages (from autorom) (2.31.0)\n",
            "Requirement already satisfied: ale-py~=0.8.0 in /usr/local/lib/python3.10/dist-packages (from gym) (0.8.1)\n",
            "Requirement already satisfied: filelock in /usr/local/lib/python3.10/dist-packages (from torch) (3.12.4)\n",
            "Requirement already satisfied: sympy in /usr/local/lib/python3.10/dist-packages (from torch) (1.12)\n",
            "Requirement already satisfied: networkx in /usr/local/lib/python3.10/dist-packages (from torch) (3.2)\n",
            "Requirement already satisfied: jinja2 in /usr/local/lib/python3.10/dist-packages (from torch) (3.1.2)\n",
            "Requirement already satisfied: fsspec in /usr/local/lib/python3.10/dist-packages (from torch) (2023.6.0)\n",
            "Requirement already satisfied: triton==2.1.0 in /usr/local/lib/python3.10/dist-packages (from torch) (2.1.0)\n",
            "Requirement already satisfied: importlib-resources in /usr/local/lib/python3.10/dist-packages (from ale-py~=0.8.0->gym) (6.1.0)\n",
            "Requirement already satisfied: wheel<1.0,>=0.23.0 in /usr/local/lib/python3.10/dist-packages (from astunparse>=1.6.0->tensorflow) (0.41.2)\n",
            "Requirement already satisfied: tqdm in /usr/local/lib/python3.10/dist-packages (from autorom) (4.66.1)\n",
            "Requirement already satisfied: AutoROM.accept-rom-license in /usr/local/lib/python3.10/dist-packages (from autorom) (0.6.1)\n",
            "Requirement already satisfied: contourpy>=1.0.1 in /usr/local/lib/python3.10/dist-packages (from matplotlib>=3.0->gym) (1.1.1)\n",
            "Requirement already satisfied: cycler>=0.10 in /usr/local/lib/python3.10/dist-packages (from matplotlib>=3.0->gym) (0.12.1)\n",
            "Requirement already satisfied: fonttools>=4.22.0 in /usr/local/lib/python3.10/dist-packages (from matplotlib>=3.0->gym) (4.43.1)\n",
            "Requirement already satisfied: kiwisolver>=1.0.1 in /usr/local/lib/python3.10/dist-packages (from matplotlib>=3.0->gym) (1.4.5)\n",
            "Requirement already satisfied: pillow>=6.2.0 in /usr/local/lib/python3.10/dist-packages (from matplotlib>=3.0->gym) (9.4.0)\n",
            "Requirement already satisfied: pyparsing>=2.3.1 in /usr/local/lib/python3.10/dist-packages (from matplotlib>=3.0->gym) (3.1.1)\n",
            "Requirement already satisfied: python-dateutil>=2.7 in /usr/local/lib/python3.10/dist-packages (from matplotlib>=3.0->gym) (2.8.2)\n",
            "Requirement already satisfied: decorator<5.0,>=4.0.2 in /usr/local/lib/python3.10/dist-packages (from moviepy>=1.0.0->gym) (4.4.2)\n",
            "Requirement already satisfied: proglog<=1.0.0 in /usr/local/lib/python3.10/dist-packages (from moviepy>=1.0.0->gym) (0.1.10)\n",
            "Requirement already satisfied: imageio<3.0,>=2.5 in /usr/local/lib/python3.10/dist-packages (from moviepy>=1.0.0->gym) (2.31.6)\n",
            "Requirement already satisfied: imageio-ffmpeg>=0.2.0 in /usr/local/lib/python3.10/dist-packages (from moviepy>=1.0.0->gym) (0.4.9)\n",
            "Requirement already satisfied: charset-normalizer<4,>=2 in /usr/local/lib/python3.10/dist-packages (from requests->autorom) (3.3.1)\n",
            "Requirement already satisfied: idna<4,>=2.5 in /usr/local/lib/python3.10/dist-packages (from requests->autorom) (3.4)\n",
            "Requirement already satisfied: urllib3<3,>=1.21.1 in /usr/local/lib/python3.10/dist-packages (from requests->autorom) (2.0.7)\n",
            "Requirement already satisfied: certifi>=2017.4.17 in /usr/local/lib/python3.10/dist-packages (from requests->autorom) (2023.7.22)\n",
            "Requirement already satisfied: google-auth<3,>=1.6.3 in /usr/local/lib/python3.10/dist-packages (from tensorboard<2.15,>=2.14->tensorflow) (2.17.3)\n",
            "Requirement already satisfied: google-auth-oauthlib<1.1,>=0.5 in /usr/local/lib/python3.10/dist-packages (from tensorboard<2.15,>=2.14->tensorflow) (1.0.0)\n",
            "Requirement already satisfied: markdown>=2.6.8 in /usr/local/lib/python3.10/dist-packages (from tensorboard<2.15,>=2.14->tensorflow) (3.5)\n",
            "Requirement already satisfied: tensorboard-data-server<0.8.0,>=0.7.0 in /usr/local/lib/python3.10/dist-packages (from tensorboard<2.15,>=2.14->tensorflow) (0.7.2)\n",
            "Requirement already satisfied: werkzeug>=1.0.1 in /usr/local/lib/python3.10/dist-packages (from tensorboard<2.15,>=2.14->tensorflow) (3.0.1)\n",
            "Requirement already satisfied: MarkupSafe>=2.0 in /usr/local/lib/python3.10/dist-packages (from jinja2->torch) (2.1.3)\n",
            "Requirement already satisfied: mpmath>=0.19 in /usr/local/lib/python3.10/dist-packages (from sympy->torch) (1.3.0)\n",
            "Requirement already satisfied: cachetools<6.0,>=2.0.0 in /usr/local/lib/python3.10/dist-packages (from google-auth<3,>=1.6.3->tensorboard<2.15,>=2.14->tensorflow) (5.3.2)\n",
            "Requirement already satisfied: pyasn1-modules>=0.2.1 in /usr/local/lib/python3.10/dist-packages (from google-auth<3,>=1.6.3->tensorboard<2.15,>=2.14->tensorflow) (0.3.0)\n",
            "Requirement already satisfied: rsa<5,>=3.1.4 in /usr/local/lib/python3.10/dist-packages (from google-auth<3,>=1.6.3->tensorboard<2.15,>=2.14->tensorflow) (4.9)\n",
            "Requirement already satisfied: requests-oauthlib>=0.7.0 in /usr/local/lib/python3.10/dist-packages (from google-auth-oauthlib<1.1,>=0.5->tensorboard<2.15,>=2.14->tensorflow) (1.3.1)\n",
            "Requirement already satisfied: pyasn1<0.6.0,>=0.4.6 in /usr/local/lib/python3.10/dist-packages (from pyasn1-modules>=0.2.1->google-auth<3,>=1.6.3->tensorboard<2.15,>=2.14->tensorflow) (0.5.0)\n",
            "Requirement already satisfied: oauthlib>=3.0.0 in /usr/local/lib/python3.10/dist-packages (from requests-oauthlib>=0.7.0->google-auth-oauthlib<1.1,>=0.5->tensorboard<2.15,>=2.14->tensorflow) (3.2.2)\n"
          ]
        }
      ],
      "source": [
        "!pip install -U gym gym[other] tensorflow keras autorom gym[accept-rom-license] gym[atari] torch"
      ]
    },
    {
      "cell_type": "code",
      "execution_count": 2,
      "metadata": {
        "execution": {
          "iopub.execute_input": "2023-11-04T12:20:22.673681Z",
          "iopub.status.busy": "2023-11-04T12:20:22.673289Z",
          "iopub.status.idle": "2023-11-04T12:20:22.678717Z",
          "shell.execute_reply": "2023-11-04T12:20:22.677771Z",
          "shell.execute_reply.started": "2023-11-04T12:20:22.673641Z"
        },
        "id": "G1gQN86MWotC",
        "trusted": true
      },
      "outputs": [],
      "source": [
        "import numpy as np\n",
        "from collections import deque\n",
        "import gym\n",
        "import random"
      ]
    },
    {
      "cell_type": "code",
      "execution_count": 3,
      "metadata": {
        "execution": {
          "iopub.execute_input": "2023-11-04T12:20:22.680207Z",
          "iopub.status.busy": "2023-11-04T12:20:22.679923Z",
          "iopub.status.idle": "2023-11-04T12:20:22.874992Z",
          "shell.execute_reply": "2023-11-04T12:20:22.874041Z",
          "shell.execute_reply.started": "2023-11-04T12:20:22.680183Z"
        },
        "id": "a3TBeAMFWotH",
        "outputId": "bd3b1046-f4ee-4624-d554-f0d215849b82",
        "trusted": true,
        "colab": {
          "base_uri": "https://localhost:8080/"
        }
      },
      "outputs": [
        {
          "output_type": "stream",
          "name": "stderr",
          "text": [
            "/usr/local/lib/python3.10/dist-packages/gym/utils/passive_env_checker.py:31: UserWarning: \u001b[33mWARN: A Box observation space has an unconventional shape (neither an image, nor a 1D vector). We recommend flattening the observation to have only a 1D vector or use a custom policy to properly process the data. Actual observation shape: (210, 160)\u001b[0m\n",
            "  logger.warn(\n"
          ]
        }
      ],
      "source": [
        "env = gym.make(\"Pong-v4\", obs_type='grayscale', render_mode='rgb_array', full_action_space=False)\n",
        "env = gym.wrappers.AtariPreprocessing(env=env, frame_skip=1)\n",
        "env = gym.wrappers.FrameStack(env=env, num_stack=4)\n",
        "# env = gym.wrappers.RecordVideo(env, 'videos', episode_trigger= lambda x : x % 30 == 0)\n"
      ]
    },
    {
      "cell_type": "code",
      "source": [
        "env = gym.make(\"CartPole-v1\")"
      ],
      "metadata": {
        "id": "QxC0UlYOWQoi"
      },
      "execution_count": 4,
      "outputs": []
    },
    {
      "cell_type": "code",
      "source": [
        "state = env.reset()\n",
        "state"
      ],
      "metadata": {
        "id": "NvzHUTtMWVMf",
        "outputId": "acc69ee2-e0a5-41b9-994a-94ee6182b84b",
        "colab": {
          "base_uri": "https://localhost:8080/"
        }
      },
      "execution_count": 5,
      "outputs": [
        {
          "output_type": "execute_result",
          "data": {
            "text/plain": [
              "(array([ 0.01973736, -0.04812356, -0.01754433,  0.03181923], dtype=float32),\n",
              " {})"
            ]
          },
          "metadata": {},
          "execution_count": 5
        }
      ]
    },
    {
      "cell_type": "code",
      "execution_count": 6,
      "metadata": {
        "execution": {
          "iopub.execute_input": "2023-11-04T12:20:22.877289Z",
          "iopub.status.busy": "2023-11-04T12:20:22.876596Z",
          "iopub.status.idle": "2023-11-04T12:20:22.889044Z",
          "shell.execute_reply": "2023-11-04T12:20:22.888087Z",
          "shell.execute_reply.started": "2023-11-04T12:20:22.877251Z"
        },
        "id": "DAxcMkx5gsh2",
        "trusted": true
      },
      "outputs": [],
      "source": [
        "import torch\n",
        "import torch.nn as nn\n",
        "import torch.optim as optim\n",
        "\n",
        "class DQN(nn.Module):\n",
        "    def __init__(self, action_size):\n",
        "        super(DQN, self).__init__()\n",
        "        \"\"\"\n",
        "        self.conv1 = nn.Conv2d(4, 32, kernel_size=8, stride=4)  # Assuming input_shape is (channels, height, width)\n",
        "        self.conv2 = nn.Conv2d(32, 64, kernel_size=4, stride=2)\n",
        "        self.conv3 = nn.Conv2d(64, 64, kernel_size=3, stride=1)\n",
        "\n",
        "        # Compute the size of the output of the last conv layer\n",
        "        def conv2d_size_out(size, kernel_size=3, stride=1):\n",
        "            return (size - (kernel_size - 1) - 1) // stride + 1\n",
        "\n",
        "        convw = conv2d_size_out(conv2d_size_out(conv2d_size_out(84, 8, 4), 4, 2), 3, 1)\n",
        "        convh = conv2d_size_out(conv2d_size_out(conv2d_size_out(84, 8, 4), 4, 2), 3, 1)\n",
        "        linear_input_size = convw * convh * 64\n",
        "\n",
        "        self.fc = nn.Sequential(\n",
        "            nn.Flatten(),\n",
        "            nn.Linear(linear_input_size, 512),\n",
        "            nn.ReLU(),\n",
        "            nn.Linear(512, action_size)\n",
        "        )\n",
        "        \"\"\"\n",
        "        self.fc = nn.Sequential(\n",
        "            nn.Linear(state_size, 128),\n",
        "            nn.ReLU(),\n",
        "            nn.Linear(128, 128),\n",
        "            nn.ReLU(),\n",
        "            nn.Linear(128, action_size)\n",
        "        )\n",
        "\n",
        "    def forward(self, x):\n",
        "        \"\"\"\n",
        "        x = torch.relu(self.conv1(x))\n",
        "        x = torch.relu(self.conv2(x))\n",
        "        x = torch.relu(self.conv3(x))\n",
        "        \"\"\"\n",
        "        return self.fc(x)\n",
        "\n",
        "def update_target_network(target, source):\n",
        "    target.load_state_dict(source.state_dict())\n"
      ]
    },
    {
      "cell_type": "code",
      "execution_count": 7,
      "metadata": {
        "execution": {
          "iopub.execute_input": "2023-11-04T12:20:22.893786Z",
          "iopub.status.busy": "2023-11-04T12:20:22.893235Z",
          "iopub.status.idle": "2023-11-04T12:20:22.922299Z",
          "shell.execute_reply": "2023-11-04T12:20:22.921464Z",
          "shell.execute_reply.started": "2023-11-04T12:20:22.893751Z"
        },
        "id": "X-9rxdLWWotK",
        "trusted": true,
        "colab": {
          "base_uri": "https://localhost:8080/"
        },
        "outputId": "a31d3409-9e26-40e4-9c1b-ba1f241d470d"
      },
      "outputs": [
        {
          "output_type": "stream",
          "name": "stdout",
          "text": [
            "Using CPU\n"
          ]
        }
      ],
      "source": [
        "import copy\n",
        "# Set parameters\n",
        "N = 40000  # Replay memory capacity\n",
        "M = 1000  # Number of episodes\n",
        "T = 10000  # Max steps per episode\n",
        "C = 40  # Target network update frequency\n",
        "epsilon = 1\n",
        "epsilon_decay = 0.99\n",
        "epsilon_min = 0.1\n",
        "gamma = 0.99\n",
        "action_size = env.action_space.n  # Number of actions\n",
        "state_size = env.observation_space.shape[0]  # State size\n",
        "\n",
        "# Initialize replay memory\n",
        "\n",
        "\n",
        "Q = DQN(action_size)\n",
        "Q_hat = copy.deepcopy(Q)\n",
        "D = deque(maxlen=N)\n",
        "\n",
        "\n",
        "# Check if a GPU is available\n",
        "if torch.cuda.is_available():\n",
        "    device = torch.device(\"cuda\")\n",
        "    print(\"Using GPU:\", torch.cuda.get_device_name(0))\n",
        "else:\n",
        "    device = torch.device(\"cpu\")\n",
        "    print(\"Using CPU\")\n",
        "\n",
        "Q.to(device)\n",
        "Q_hat.to(device)\n",
        "optimizer = optim.Adam(Q.parameters(), lr=0.0025)\n",
        "criterion = nn.MSELoss()\n",
        "\n",
        "\n",
        "\n",
        "# Convert numpy array to PyTorch tensor\n",
        "def preprocess_state(state):\n",
        "  return torch.tensor(np.asarray(state)).float().div(255).unsqueeze(0).to(device)  # Scales to [0,1]\n",
        "\n",
        "frames = 0\n",
        "reward_list = []\n",
        "loss_list = []"
      ]
    },
    {
      "cell_type": "code",
      "execution_count": 8,
      "metadata": {
        "execution": {
          "iopub.execute_input": "2023-11-04T12:25:19.997666Z",
          "iopub.status.busy": "2023-11-04T12:25:19.997279Z",
          "iopub.status.idle": "2023-11-04T12:27:05.158790Z",
          "shell.execute_reply": "2023-11-04T12:27:05.157415Z",
          "shell.execute_reply.started": "2023-11-04T12:25:19.997626Z"
        },
        "id": "Cf8kqTdyWotM",
        "outputId": "d4e86a97-c5c4-4d0f-af85-ccfab7093f3e",
        "trusted": true,
        "colab": {
          "base_uri": "https://localhost:8080/"
        }
      },
      "outputs": [
        {
          "output_type": "stream",
          "name": "stderr",
          "text": [
            "  5%|▌         | 105/2000 [00:00<00:03, 528.22it/s]"
          ]
        },
        {
          "output_type": "stream",
          "name": "stdout",
          "text": [
            "Episode: 0/1000, Score: 15.0, Nb_frames : 15\n",
            "Episode: 20/1000, Score: 12.0, Nb_frames : 438\n",
            "Episode: 40/1000, Score: 11.0, Nb_frames : 791\n",
            "Episode: 60/1000, Score: 16.0, Nb_frames : 1079\n",
            "Episode: 80/1000, Score: 14.0, Nb_frames : 1368\n",
            "Episode: 100/1000, Score: 9.0, Nb_frames : 1600\n"
          ]
        },
        {
          "output_type": "stream",
          "name": "stderr",
          "text": [
            " 11%|█         | 214/2000 [00:00<00:03, 499.05it/s]"
          ]
        },
        {
          "output_type": "stream",
          "name": "stdout",
          "text": [
            "Episode: 120/1000, Score: 10.0, Nb_frames : 1836\n",
            "Episode: 140/1000, Score: 12.0, Nb_frames : 2069\n",
            "Episode: 160/1000, Score: 10.0, Nb_frames : 2278\n",
            "Episode: 180/1000, Score: 10.0, Nb_frames : 2478\n",
            "Episode: 200/1000, Score: 12.0, Nb_frames : 2686\n"
          ]
        },
        {
          "output_type": "stream",
          "name": "stderr",
          "text": [
            "\r 13%|█▎        | 265/2000 [00:00<00:05, 336.24it/s]"
          ]
        },
        {
          "output_type": "stream",
          "name": "stdout",
          "text": [
            "Episode: 220/1000, Score: 10.0, Nb_frames : 2886\n",
            "Episode: 240/1000, Score: 9.0, Nb_frames : 3079\n",
            "Episode: 260/1000, Score: 8.0, Nb_frames : 3280\n"
          ]
        },
        {
          "output_type": "stream",
          "name": "stderr",
          "text": [
            " 17%|█▋        | 342/2000 [00:00<00:05, 327.09it/s]"
          ]
        },
        {
          "output_type": "stream",
          "name": "stdout",
          "text": [
            "Episode: 280/1000, Score: 10.0, Nb_frames : 3489\n",
            "Episode: 300/1000, Score: 9.0, Nb_frames : 3682\n",
            "Episode: 320/1000, Score: 9.0, Nb_frames : 3876\n",
            "Episode: 340/1000, Score: 8.0, Nb_frames : 4075\n"
          ]
        },
        {
          "output_type": "stream",
          "name": "stderr",
          "text": [
            " 21%|██        | 412/2000 [00:01<00:05, 312.54it/s]"
          ]
        },
        {
          "output_type": "stream",
          "name": "stdout",
          "text": [
            "Episode: 360/1000, Score: 11.0, Nb_frames : 4275\n",
            "Episode: 380/1000, Score: 8.0, Nb_frames : 4477\n",
            "Episode: 400/1000, Score: 9.0, Nb_frames : 4676\n",
            "Episode: 420/1000, Score: 10.0, Nb_frames : 4874\n",
            "Episode: 440/1000, Score: 11.0, Nb_frames : 5088\n"
          ]
        },
        {
          "output_type": "stream",
          "name": "stderr",
          "text": [
            "\r 22%|██▏       | 445/2000 [00:01<00:14, 110.80it/s]"
          ]
        },
        {
          "output_type": "stream",
          "name": "stdout",
          "text": [
            "Episode: 460/1000, Score: 33.0, Nb_frames : 5373\n"
          ]
        },
        {
          "output_type": "stream",
          "name": "stderr",
          "text": [
            "\r 23%|██▎       | 469/2000 [00:03<00:29, 52.70it/s] "
          ]
        },
        {
          "output_type": "stream",
          "name": "stdout",
          "text": [
            "Episode: 480/1000, Score: 11.0, Nb_frames : 5627\n"
          ]
        },
        {
          "output_type": "stream",
          "name": "stderr",
          "text": [
            " 25%|██▍       | 499/2000 [00:04<00:43, 34.18it/s]"
          ]
        },
        {
          "output_type": "stream",
          "name": "stdout",
          "text": [
            "Episode: 500/1000, Score: 11.0, Nb_frames : 5881\n"
          ]
        },
        {
          "output_type": "stream",
          "name": "stderr",
          "text": [
            " 26%|██▌       | 523/2000 [00:05<00:54, 27.03it/s]"
          ]
        },
        {
          "output_type": "stream",
          "name": "stdout",
          "text": [
            "Episode: 520/1000, Score: 9.0, Nb_frames : 6089\n"
          ]
        },
        {
          "output_type": "stream",
          "name": "stderr",
          "text": [
            " 27%|██▋       | 543/2000 [00:07<01:33, 15.51it/s]"
          ]
        },
        {
          "output_type": "stream",
          "name": "stdout",
          "text": [
            "Episode: 540/1000, Score: 22.0, Nb_frames : 6362\n"
          ]
        },
        {
          "output_type": "stream",
          "name": "stderr",
          "text": [
            " 28%|██▊       | 562/2000 [00:09<02:26,  9.84it/s]"
          ]
        },
        {
          "output_type": "stream",
          "name": "stdout",
          "text": [
            "Episode: 560/1000, Score: 8.0, Nb_frames : 6622\n"
          ]
        },
        {
          "output_type": "stream",
          "name": "stderr",
          "text": [
            " 29%|██▉       | 583/2000 [00:12<02:26,  9.65it/s]"
          ]
        },
        {
          "output_type": "stream",
          "name": "stdout",
          "text": [
            "Episode: 580/1000, Score: 19.0, Nb_frames : 7014\n"
          ]
        },
        {
          "output_type": "stream",
          "name": "stderr",
          "text": [
            " 30%|███       | 603/2000 [00:14<02:42,  8.60it/s]"
          ]
        },
        {
          "output_type": "stream",
          "name": "stdout",
          "text": [
            "Episode: 600/1000, Score: 9.0, Nb_frames : 7368\n"
          ]
        },
        {
          "output_type": "stream",
          "name": "stderr",
          "text": [
            " 31%|███       | 620/2000 [00:15<01:41, 13.59it/s]"
          ]
        },
        {
          "output_type": "stream",
          "name": "stdout",
          "text": [
            "Episode: 620/1000, Score: 8.0, Nb_frames : 7662\n"
          ]
        },
        {
          "output_type": "stream",
          "name": "stderr",
          "text": [
            " 32%|███▏      | 644/2000 [00:17<01:13, 18.34it/s]"
          ]
        },
        {
          "output_type": "stream",
          "name": "stdout",
          "text": [
            "Episode: 640/1000, Score: 42.0, Nb_frames : 8085\n"
          ]
        },
        {
          "output_type": "stream",
          "name": "stderr",
          "text": [
            " 33%|███▎      | 665/2000 [00:18<00:55, 24.04it/s]"
          ]
        },
        {
          "output_type": "stream",
          "name": "stdout",
          "text": [
            "Episode: 660/1000, Score: 34.0, Nb_frames : 8447\n"
          ]
        },
        {
          "output_type": "stream",
          "name": "stderr",
          "text": [
            " 34%|███▍      | 686/2000 [00:19<00:41, 31.92it/s]"
          ]
        },
        {
          "output_type": "stream",
          "name": "stdout",
          "text": [
            "Episode: 680/1000, Score: 10.0, Nb_frames : 8733\n"
          ]
        },
        {
          "output_type": "stream",
          "name": "stderr",
          "text": [
            " 35%|███▌      | 704/2000 [00:19<00:36, 35.21it/s]"
          ]
        },
        {
          "output_type": "stream",
          "name": "stdout",
          "text": [
            "Episode: 700/1000, Score: 10.0, Nb_frames : 8944\n"
          ]
        },
        {
          "output_type": "stream",
          "name": "stderr",
          "text": [
            " 36%|███▋      | 725/2000 [00:20<00:38, 33.44it/s]"
          ]
        },
        {
          "output_type": "stream",
          "name": "stdout",
          "text": [
            "Episode: 720/1000, Score: 29.0, Nb_frames : 9208\n"
          ]
        },
        {
          "output_type": "stream",
          "name": "stderr",
          "text": [
            " 37%|███▋      | 748/2000 [00:21<00:32, 38.47it/s]"
          ]
        },
        {
          "output_type": "stream",
          "name": "stdout",
          "text": [
            "Episode: 740/1000, Score: 10.0, Nb_frames : 9423\n"
          ]
        },
        {
          "output_type": "stream",
          "name": "stderr",
          "text": [
            " 38%|███▊      | 765/2000 [00:21<00:32, 37.78it/s]"
          ]
        },
        {
          "output_type": "stream",
          "name": "stdout",
          "text": [
            "Episode: 760/1000, Score: 8.0, Nb_frames : 9659\n"
          ]
        },
        {
          "output_type": "stream",
          "name": "stderr",
          "text": [
            " 39%|███▉      | 783/2000 [00:22<00:45, 26.60it/s]"
          ]
        },
        {
          "output_type": "stream",
          "name": "stdout",
          "text": [
            "Episode: 780/1000, Score: 15.0, Nb_frames : 9870\n"
          ]
        },
        {
          "output_type": "stream",
          "name": "stderr",
          "text": [
            " 40%|████      | 804/2000 [00:22<00:44, 26.64it/s]"
          ]
        },
        {
          "output_type": "stream",
          "name": "stdout",
          "text": [
            "Episode: 800/1000, Score: 10.0, Nb_frames : 10106\n"
          ]
        },
        {
          "output_type": "stream",
          "name": "stderr",
          "text": [
            " 41%|████      | 823/2000 [00:23<01:03, 18.67it/s]"
          ]
        },
        {
          "output_type": "stream",
          "name": "stdout",
          "text": [
            "Episode: 820/1000, Score: 9.0, Nb_frames : 10381\n"
          ]
        },
        {
          "output_type": "stream",
          "name": "stderr",
          "text": [
            " 42%|████▏     | 845/2000 [00:24<00:45, 25.21it/s]"
          ]
        },
        {
          "output_type": "stream",
          "name": "stdout",
          "text": [
            "Episode: 840/1000, Score: 19.0, Nb_frames : 10713\n"
          ]
        },
        {
          "output_type": "stream",
          "name": "stderr",
          "text": [
            " 43%|████▎     | 864/2000 [00:25<00:44, 25.42it/s]"
          ]
        },
        {
          "output_type": "stream",
          "name": "stdout",
          "text": [
            "Episode: 860/1000, Score: 10.0, Nb_frames : 11027\n"
          ]
        },
        {
          "output_type": "stream",
          "name": "stderr",
          "text": [
            " 44%|████▍     | 886/2000 [00:26<00:45, 24.45it/s]"
          ]
        },
        {
          "output_type": "stream",
          "name": "stdout",
          "text": [
            "Episode: 880/1000, Score: 9.0, Nb_frames : 11450\n"
          ]
        },
        {
          "output_type": "stream",
          "name": "stderr",
          "text": [
            " 45%|████▌     | 907/2000 [00:27<00:35, 30.43it/s]"
          ]
        },
        {
          "output_type": "stream",
          "name": "stdout",
          "text": [
            "Episode: 900/1000, Score: 12.0, Nb_frames : 11772\n"
          ]
        },
        {
          "output_type": "stream",
          "name": "stderr",
          "text": [
            " 46%|████▋     | 926/2000 [00:28<00:39, 27.15it/s]"
          ]
        },
        {
          "output_type": "stream",
          "name": "stdout",
          "text": [
            "Episode: 920/1000, Score: 16.0, Nb_frames : 12077\n"
          ]
        },
        {
          "output_type": "stream",
          "name": "stderr",
          "text": [
            " 47%|████▋     | 943/2000 [00:29<00:43, 24.26it/s]"
          ]
        },
        {
          "output_type": "stream",
          "name": "stdout",
          "text": [
            "Episode: 940/1000, Score: 16.0, Nb_frames : 12394\n"
          ]
        },
        {
          "output_type": "stream",
          "name": "stderr",
          "text": [
            " 48%|████▊     | 964/2000 [00:29<00:43, 23.66it/s]"
          ]
        },
        {
          "output_type": "stream",
          "name": "stdout",
          "text": [
            "Episode: 960/1000, Score: 9.0, Nb_frames : 12715\n"
          ]
        },
        {
          "output_type": "stream",
          "name": "stderr",
          "text": [
            " 49%|████▉     | 985/2000 [00:30<00:44, 22.70it/s]"
          ]
        },
        {
          "output_type": "stream",
          "name": "stdout",
          "text": [
            "Episode: 980/1000, Score: 10.0, Nb_frames : 13103\n"
          ]
        },
        {
          "output_type": "stream",
          "name": "stderr",
          "text": [
            " 50%|█████     | 1002/2000 [00:31<00:43, 23.11it/s]"
          ]
        },
        {
          "output_type": "stream",
          "name": "stdout",
          "text": [
            "Episode: 1000/1000, Score: 10.0, Nb_frames : 13435\n"
          ]
        },
        {
          "output_type": "stream",
          "name": "stderr",
          "text": [
            " 51%|█████     | 1022/2000 [00:32<00:37, 26.05it/s]"
          ]
        },
        {
          "output_type": "stream",
          "name": "stdout",
          "text": [
            "Episode: 1020/1000, Score: 14.0, Nb_frames : 13756\n"
          ]
        },
        {
          "output_type": "stream",
          "name": "stderr",
          "text": [
            " 52%|█████▏    | 1043/2000 [00:33<00:37, 25.59it/s]"
          ]
        },
        {
          "output_type": "stream",
          "name": "stdout",
          "text": [
            "Episode: 1040/1000, Score: 21.0, Nb_frames : 14071\n"
          ]
        },
        {
          "output_type": "stream",
          "name": "stderr",
          "text": [
            " 53%|█████▎    | 1063/2000 [00:33<00:36, 25.35it/s]"
          ]
        },
        {
          "output_type": "stream",
          "name": "stdout",
          "text": [
            "Episode: 1060/1000, Score: 9.0, Nb_frames : 14384\n"
          ]
        },
        {
          "output_type": "stream",
          "name": "stderr",
          "text": [
            " 54%|█████▍    | 1082/2000 [00:35<00:57, 16.10it/s]"
          ]
        },
        {
          "output_type": "stream",
          "name": "stdout",
          "text": [
            "Episode: 1080/1000, Score: 29.0, Nb_frames : 14787\n"
          ]
        },
        {
          "output_type": "stream",
          "name": "stderr",
          "text": [
            " 55%|█████▌    | 1104/2000 [00:36<00:55, 16.25it/s]"
          ]
        },
        {
          "output_type": "stream",
          "name": "stdout",
          "text": [
            "Episode: 1100/1000, Score: 9.0, Nb_frames : 15160\n"
          ]
        },
        {
          "output_type": "stream",
          "name": "stderr",
          "text": [
            " 56%|█████▌    | 1124/2000 [00:37<00:45, 19.08it/s]"
          ]
        },
        {
          "output_type": "stream",
          "name": "stdout",
          "text": [
            "Episode: 1120/1000, Score: 29.0, Nb_frames : 15474\n"
          ]
        },
        {
          "output_type": "stream",
          "name": "stderr",
          "text": [
            " 57%|█████▋    | 1145/2000 [00:38<00:35, 23.85it/s]"
          ]
        },
        {
          "output_type": "stream",
          "name": "stdout",
          "text": [
            "Episode: 1140/1000, Score: 10.0, Nb_frames : 15782\n"
          ]
        },
        {
          "output_type": "stream",
          "name": "stderr",
          "text": [
            " 58%|█████▊    | 1165/2000 [00:39<00:31, 26.65it/s]"
          ]
        },
        {
          "output_type": "stream",
          "name": "stdout",
          "text": [
            "Episode: 1160/1000, Score: 8.0, Nb_frames : 16083\n"
          ]
        },
        {
          "output_type": "stream",
          "name": "stderr",
          "text": [
            " 59%|█████▉    | 1184/2000 [00:39<00:39, 20.51it/s]"
          ]
        },
        {
          "output_type": "stream",
          "name": "stdout",
          "text": [
            "Episode: 1180/1000, Score: 24.0, Nb_frames : 16416\n"
          ]
        },
        {
          "output_type": "stream",
          "name": "stderr",
          "text": [
            " 60%|██████    | 1202/2000 [00:40<00:32, 24.32it/s]"
          ]
        },
        {
          "output_type": "stream",
          "name": "stdout",
          "text": [
            "Episode: 1200/1000, Score: 16.0, Nb_frames : 16699\n"
          ]
        },
        {
          "output_type": "stream",
          "name": "stderr",
          "text": [
            " 61%|██████    | 1224/2000 [00:41<00:38, 20.02it/s]"
          ]
        },
        {
          "output_type": "stream",
          "name": "stdout",
          "text": [
            "Episode: 1220/1000, Score: 31.0, Nb_frames : 17151\n"
          ]
        },
        {
          "output_type": "stream",
          "name": "stderr",
          "text": [
            " 62%|██████▏   | 1246/2000 [00:42<00:31, 23.87it/s]"
          ]
        },
        {
          "output_type": "stream",
          "name": "stdout",
          "text": [
            "Episode: 1240/1000, Score: 29.0, Nb_frames : 17512\n"
          ]
        },
        {
          "output_type": "stream",
          "name": "stderr",
          "text": [
            " 63%|██████▎   | 1264/2000 [00:44<00:52, 14.08it/s]"
          ]
        },
        {
          "output_type": "stream",
          "name": "stdout",
          "text": [
            "Episode: 1260/1000, Score: 44.0, Nb_frames : 18103\n"
          ]
        },
        {
          "output_type": "stream",
          "name": "stderr",
          "text": [
            " 64%|██████▍   | 1282/2000 [00:45<00:43, 16.64it/s]"
          ]
        },
        {
          "output_type": "stream",
          "name": "stdout",
          "text": [
            "Episode: 1280/1000, Score: 35.0, Nb_frames : 18566\n"
          ]
        },
        {
          "output_type": "stream",
          "name": "stderr",
          "text": [
            " 65%|██████▌   | 1301/2000 [00:47<01:04, 10.75it/s]"
          ]
        },
        {
          "output_type": "stream",
          "name": "stdout",
          "text": [
            "Episode: 1300/1000, Score: 45.0, Nb_frames : 19339\n"
          ]
        },
        {
          "output_type": "stream",
          "name": "stderr",
          "text": [
            " 66%|██████▌   | 1320/2000 [00:49<01:07, 10.01it/s]"
          ]
        },
        {
          "output_type": "stream",
          "name": "stdout",
          "text": [
            "Episode: 1320/1000, Score: 33.0, Nb_frames : 20049\n"
          ]
        },
        {
          "output_type": "stream",
          "name": "stderr",
          "text": [
            " 67%|██████▋   | 1342/2000 [00:52<01:19,  8.32it/s]"
          ]
        },
        {
          "output_type": "stream",
          "name": "stdout",
          "text": [
            "Episode: 1340/1000, Score: 24.0, Nb_frames : 20888\n"
          ]
        },
        {
          "output_type": "stream",
          "name": "stderr",
          "text": [
            " 68%|██████▊   | 1362/2000 [00:54<01:08,  9.36it/s]"
          ]
        },
        {
          "output_type": "stream",
          "name": "stdout",
          "text": [
            "Episode: 1360/1000, Score: 38.0, Nb_frames : 21769\n"
          ]
        },
        {
          "output_type": "stream",
          "name": "stderr",
          "text": [
            " 69%|██████▉   | 1381/2000 [00:57<01:26,  7.12it/s]"
          ]
        },
        {
          "output_type": "stream",
          "name": "stdout",
          "text": [
            "Episode: 1380/1000, Score: 47.0, Nb_frames : 22739\n"
          ]
        },
        {
          "output_type": "stream",
          "name": "stderr",
          "text": [
            " 70%|███████   | 1402/2000 [01:00<01:38,  6.09it/s]"
          ]
        },
        {
          "output_type": "stream",
          "name": "stdout",
          "text": [
            "Episode: 1400/1000, Score: 38.0, Nb_frames : 24141\n"
          ]
        },
        {
          "output_type": "stream",
          "name": "stderr",
          "text": [
            " 71%|███████   | 1421/2000 [01:04<01:40,  5.78it/s]"
          ]
        },
        {
          "output_type": "stream",
          "name": "stdout",
          "text": [
            "Episode: 1420/1000, Score: 59.0, Nb_frames : 25348\n"
          ]
        },
        {
          "output_type": "stream",
          "name": "stderr",
          "text": [
            " 72%|███████▏  | 1441/2000 [01:08<01:24,  6.62it/s]"
          ]
        },
        {
          "output_type": "stream",
          "name": "stdout",
          "text": [
            "Episode: 1440/1000, Score: 53.0, Nb_frames : 26913\n"
          ]
        },
        {
          "output_type": "stream",
          "name": "stderr",
          "text": [
            " 73%|███████▎  | 1461/2000 [01:12<01:41,  5.31it/s]"
          ]
        },
        {
          "output_type": "stream",
          "name": "stdout",
          "text": [
            "Episode: 1460/1000, Score: 61.0, Nb_frames : 28398\n"
          ]
        },
        {
          "output_type": "stream",
          "name": "stderr",
          "text": [
            " 74%|███████▍  | 1481/2000 [01:16<02:00,  4.30it/s]"
          ]
        },
        {
          "output_type": "stream",
          "name": "stdout",
          "text": [
            "Episode: 1480/1000, Score: 79.0, Nb_frames : 29804\n"
          ]
        },
        {
          "output_type": "stream",
          "name": "stderr",
          "text": [
            " 75%|███████▌  | 1501/2000 [01:21<02:02,  4.06it/s]"
          ]
        },
        {
          "output_type": "stream",
          "name": "stdout",
          "text": [
            "Episode: 1500/1000, Score: 102.0, Nb_frames : 31617\n"
          ]
        },
        {
          "output_type": "stream",
          "name": "stderr",
          "text": [
            " 76%|███████▌  | 1521/2000 [01:26<02:16,  3.51it/s]"
          ]
        },
        {
          "output_type": "stream",
          "name": "stdout",
          "text": [
            "Episode: 1520/1000, Score: 68.0, Nb_frames : 33727\n"
          ]
        },
        {
          "output_type": "stream",
          "name": "stderr",
          "text": [
            " 77%|███████▋  | 1541/2000 [01:32<02:09,  3.53it/s]"
          ]
        },
        {
          "output_type": "stream",
          "name": "stdout",
          "text": [
            "Episode: 1540/1000, Score: 176.0, Nb_frames : 35481\n"
          ]
        },
        {
          "output_type": "stream",
          "name": "stderr",
          "text": [
            " 78%|███████▊  | 1562/2000 [01:36<01:39,  4.41it/s]"
          ]
        },
        {
          "output_type": "stream",
          "name": "stdout",
          "text": [
            "Episode: 1560/1000, Score: 129.0, Nb_frames : 37168\n"
          ]
        },
        {
          "output_type": "stream",
          "name": "stderr",
          "text": [
            " 79%|███████▉  | 1581/2000 [01:45<02:33,  2.73it/s]"
          ]
        },
        {
          "output_type": "stream",
          "name": "stdout",
          "text": [
            "Episode: 1580/1000, Score: 169.0, Nb_frames : 39732\n"
          ]
        },
        {
          "output_type": "stream",
          "name": "stderr",
          "text": [
            " 80%|████████  | 1601/2000 [01:51<02:06,  3.15it/s]"
          ]
        },
        {
          "output_type": "stream",
          "name": "stdout",
          "text": [
            "Episode: 1600/1000, Score: 121.0, Nb_frames : 42170\n"
          ]
        },
        {
          "output_type": "stream",
          "name": "stderr",
          "text": [
            " 81%|████████  | 1621/2000 [01:58<01:54,  3.32it/s]"
          ]
        },
        {
          "output_type": "stream",
          "name": "stdout",
          "text": [
            "Episode: 1620/1000, Score: 88.0, Nb_frames : 44616\n"
          ]
        },
        {
          "output_type": "stream",
          "name": "stderr",
          "text": [
            " 82%|████████▏ | 1641/2000 [02:03<01:35,  3.76it/s]"
          ]
        },
        {
          "output_type": "stream",
          "name": "stdout",
          "text": [
            "Episode: 1640/1000, Score: 100.0, Nb_frames : 46644\n"
          ]
        },
        {
          "output_type": "stream",
          "name": "stderr",
          "text": [
            " 83%|████████▎ | 1661/2000 [02:11<02:05,  2.70it/s]"
          ]
        },
        {
          "output_type": "stream",
          "name": "stdout",
          "text": [
            "Episode: 1660/1000, Score: 143.0, Nb_frames : 49377\n"
          ]
        },
        {
          "output_type": "stream",
          "name": "stderr",
          "text": [
            " 84%|████████▍ | 1681/2000 [02:21<02:46,  1.91it/s]"
          ]
        },
        {
          "output_type": "stream",
          "name": "stdout",
          "text": [
            "Episode: 1680/1000, Score: 176.0, Nb_frames : 52626\n"
          ]
        },
        {
          "output_type": "stream",
          "name": "stderr",
          "text": [
            " 85%|████████▌ | 1701/2000 [02:29<01:43,  2.89it/s]"
          ]
        },
        {
          "output_type": "stream",
          "name": "stdout",
          "text": [
            "Episode: 1700/1000, Score: 130.0, Nb_frames : 55608\n"
          ]
        },
        {
          "output_type": "stream",
          "name": "stderr",
          "text": [
            " 86%|████████▌ | 1721/2000 [02:37<01:49,  2.56it/s]"
          ]
        },
        {
          "output_type": "stream",
          "name": "stdout",
          "text": [
            "Episode: 1720/1000, Score: 137.0, Nb_frames : 58637\n"
          ]
        },
        {
          "output_type": "stream",
          "name": "stderr",
          "text": [
            " 87%|████████▋ | 1741/2000 [02:47<02:13,  1.94it/s]"
          ]
        },
        {
          "output_type": "stream",
          "name": "stdout",
          "text": [
            "Episode: 1740/1000, Score: 178.0, Nb_frames : 61883\n"
          ]
        },
        {
          "output_type": "stream",
          "name": "stderr",
          "text": [
            " 88%|████████▊ | 1761/2000 [02:58<02:46,  1.43it/s]"
          ]
        },
        {
          "output_type": "stream",
          "name": "stdout",
          "text": [
            "Episode: 1760/1000, Score: 154.0, Nb_frames : 65599\n"
          ]
        },
        {
          "output_type": "stream",
          "name": "stderr",
          "text": [
            " 89%|████████▉ | 1781/2000 [03:10<02:09,  1.69it/s]"
          ]
        },
        {
          "output_type": "stream",
          "name": "stdout",
          "text": [
            "Episode: 1780/1000, Score: 165.0, Nb_frames : 69481\n"
          ]
        },
        {
          "output_type": "stream",
          "name": "stderr",
          "text": [
            " 90%|█████████ | 1801/2000 [03:20<01:33,  2.12it/s]"
          ]
        },
        {
          "output_type": "stream",
          "name": "stdout",
          "text": [
            "Episode: 1800/1000, Score: 170.0, Nb_frames : 73076\n"
          ]
        },
        {
          "output_type": "stream",
          "name": "stderr",
          "text": [
            " 91%|█████████ | 1821/2000 [03:31<01:25,  2.09it/s]"
          ]
        },
        {
          "output_type": "stream",
          "name": "stdout",
          "text": [
            "Episode: 1820/1000, Score: 135.0, Nb_frames : 76520\n"
          ]
        },
        {
          "output_type": "stream",
          "name": "stderr",
          "text": [
            " 92%|█████████▏| 1841/2000 [03:40<01:20,  1.98it/s]"
          ]
        },
        {
          "output_type": "stream",
          "name": "stdout",
          "text": [
            "Episode: 1840/1000, Score: 167.0, Nb_frames : 79614\n"
          ]
        },
        {
          "output_type": "stream",
          "name": "stderr",
          "text": [
            " 93%|█████████▎| 1861/2000 [03:52<01:15,  1.84it/s]"
          ]
        },
        {
          "output_type": "stream",
          "name": "stdout",
          "text": [
            "Episode: 1860/1000, Score: 161.0, Nb_frames : 83197\n"
          ]
        },
        {
          "output_type": "stream",
          "name": "stderr",
          "text": [
            " 94%|█████████▍| 1881/2000 [04:03<01:22,  1.44it/s]"
          ]
        },
        {
          "output_type": "stream",
          "name": "stdout",
          "text": [
            "Episode: 1880/1000, Score: 224.0, Nb_frames : 86658\n"
          ]
        },
        {
          "output_type": "stream",
          "name": "stderr",
          "text": [
            " 95%|█████████▌| 1901/2000 [04:13<00:52,  1.89it/s]"
          ]
        },
        {
          "output_type": "stream",
          "name": "stdout",
          "text": [
            "Episode: 1900/1000, Score: 148.0, Nb_frames : 90036\n"
          ]
        },
        {
          "output_type": "stream",
          "name": "stderr",
          "text": [
            " 96%|█████████▌| 1921/2000 [04:23<00:34,  2.32it/s]"
          ]
        },
        {
          "output_type": "stream",
          "name": "stdout",
          "text": [
            "Episode: 1920/1000, Score: 143.0, Nb_frames : 92992\n"
          ]
        },
        {
          "output_type": "stream",
          "name": "stderr",
          "text": [
            " 97%|█████████▋| 1941/2000 [04:32<00:24,  2.39it/s]"
          ]
        },
        {
          "output_type": "stream",
          "name": "stdout",
          "text": [
            "Episode: 1940/1000, Score: 142.0, Nb_frames : 95828\n"
          ]
        },
        {
          "output_type": "stream",
          "name": "stderr",
          "text": [
            " 98%|█████████▊| 1961/2000 [04:40<00:20,  1.87it/s]"
          ]
        },
        {
          "output_type": "stream",
          "name": "stdout",
          "text": [
            "Episode: 1960/1000, Score: 132.0, Nb_frames : 98488\n"
          ]
        },
        {
          "output_type": "stream",
          "name": "stderr",
          "text": [
            " 99%|█████████▉| 1979/2000 [04:48<00:08,  2.54it/s]"
          ]
        },
        {
          "output_type": "stream",
          "name": "stdout",
          "text": [
            "Episode: 1980/1000, Score: 18.0, Nb_frames : 100866\n"
          ]
        },
        {
          "output_type": "stream",
          "name": "stderr",
          "text": [
            "100%|██████████| 2000/2000 [04:55<00:00,  6.76it/s]\n"
          ]
        }
      ],
      "source": [
        "from tqdm import tqdm\n",
        "\n",
        "# Training loop\n",
        "for episode in tqdm(range(2000)):\n",
        "    total_reward = 0\n",
        "    state = preprocess_state(env.reset()[0])# Add batch dimension\n",
        "    for t in range(T):\n",
        "        # Epsilon-greedy action selection\n",
        "        if np.random.rand() <= epsilon:\n",
        "            action = random.randrange(action_size)\n",
        "        else:\n",
        "            with torch.no_grad():  # No need to track gradients here\n",
        "                act_values = Q(state)\n",
        "                action = act_values.max(1)[1].item()  # Choose the action with the highest Q-value\n",
        "\n",
        "        # Execute action in environment and observe next state and reward\n",
        "        next_state, reward, done, _, _ = env.step(action)\n",
        "        total_reward += reward\n",
        "        frames += 1\n",
        "\n",
        "        next_state = preprocess_state(next_state)\n",
        "\n",
        "        # Store transition in D (experience replay buffer)\n",
        "        D.append((state, action, reward, next_state, done))\n",
        "        d_len = len(D)\n",
        "\n",
        "        state = next_state\n",
        "\n",
        "        # Check if the episode is done\n",
        "        if done :\n",
        "            if episode % 20 == 0:\n",
        "              print(f\"Episode: {episode}/{M}, Score: {total_reward}, Nb_frames : {frames}\")\n",
        "            reward_list.append(total_reward)\n",
        "            break\n",
        "\n",
        "\n",
        "\n",
        "        # Train using a random minibatch from D\n",
        "        if len(D) > 5000:\n",
        "            minibatch = random.sample(D, 32)\n",
        "            # Extract tensors from the minibatch\n",
        "            states = torch.cat([s for s, a, r, ns, d in minibatch]).to(device)\n",
        "            actions = torch.tensor([a for s, a, r, ns, d in minibatch], device=device).long()\n",
        "            rewards = torch.tensor([r for s, a, r, ns, d in minibatch], device=device).float()\n",
        "            next_states = torch.cat([ns for s, a, r, ns, d in minibatch]).to(device)\n",
        "            dones = torch.tensor([d for s, a, r, ns, d in minibatch], device=device).float()\n",
        "\n",
        "\n",
        "            # Compute Q values for current states\n",
        "            Q_values = Q(states)\n",
        "            # Select the Q value for the action taken, which are the ones we want to update\n",
        "            Q_values = Q_values.gather(1, actions.unsqueeze(1)).squeeze(1)\n",
        "\n",
        "            # Compute the Q values for next states using the target network\n",
        "            with torch.no_grad():\n",
        "                next_state_values = Q_hat(next_states).max(1)[0]\n",
        "                # If done is true, we want to ignore the next state value\n",
        "                next_state_values[dones == 1] = 0.0\n",
        "                # Compute the target Q values\n",
        "                target_Q_values = rewards + (gamma * next_state_values)\n",
        "\n",
        "            # Zero the parameter gradients\n",
        "            optimizer.zero_grad()\n",
        "            # Compute loss\n",
        "            loss = criterion(Q_values, target_Q_values)\n",
        "            # Backward pass\n",
        "            loss.backward()\n",
        "            loss_list.append(loss.item())\n",
        "            torch.nn.utils.clip_grad_norm_(Q.parameters(), max_norm=1.0)\n",
        "            optimizer.step()\n",
        "\n",
        "    # Update epsilon\n",
        "    if epsilon > epsilon_min:\n",
        "        epsilon *= epsilon_decay\n",
        "\n",
        "    # Update target network\n",
        "    if episode % C == 0:\n",
        "        Q_hat.load_state_dict(Q.state_dict())"
      ]
    },
    {
      "cell_type": "code",
      "source": [
        "import matplotlib.pyplot as plt\n",
        "plt.plot(loss_list)"
      ],
      "metadata": {
        "id": "nIh3t5VMdVRH",
        "outputId": "3216d142-e429-445a-e340-abd1c35394be",
        "colab": {
          "base_uri": "https://localhost:8080/",
          "height": 448
        }
      },
      "execution_count": 9,
      "outputs": [
        {
          "output_type": "execute_result",
          "data": {
            "text/plain": [
              "[<matplotlib.lines.Line2D at 0x78d2b40c9c00>]"
            ]
          },
          "metadata": {},
          "execution_count": 9
        },
        {
          "output_type": "display_data",
          "data": {
            "text/plain": [
              "<Figure size 640x480 with 1 Axes>"
            ],
            "image/png": "[encoded data removed]"
          },
          "metadata": {}
        }
      ]
    },
    {
      "cell_type": "code",
      "source": [
        "plt.plot(reward_list)"
      ],
      "metadata": {
        "id": "MoTBId8WdXtF",
        "outputId": "0f2a6bb0-df58-4ad6-8c47-3f3947017374",
        "colab": {
          "base_uri": "https://localhost:8080/",
          "height": 448
        }
      },
      "execution_count": 10,
      "outputs": [
        {
          "output_type": "execute_result",
          "data": {
            "text/plain": [
              "[<matplotlib.lines.Line2D at 0x78d2b0eac0d0>]"
            ]
          },
          "metadata": {},
          "execution_count": 10
        },
        {
          "output_type": "display_data",
          "data": {
            "text/plain": [
              "<Figure size 640x480 with 1 Axes>"
            ],
            "image/png": "[encoded data removed]"
          },
          "metadata": {}
        }
      ]
    },
    {
      "cell_type": "code",
      "source": [
        "# Fit the linear model\n",
        "x = np.arange(1, len(reward_list) + 1)\n",
        "y = reward_list\n",
        "coefficients = np.polyfit(x, y, 1)  # 1 means linear\n",
        "polynomial = np.poly1d(coefficients)\n",
        "\n",
        "# Generate a number of points for the x-axis (from min to max of your original x)\n",
        "x_trend = np.linspace(x.min(), x.max(), 100)\n",
        "# Predict the y values\n",
        "y_trend = polynomial(x_trend)\n",
        "\n",
        "# Plot the linear trend\n",
        "plt.plot(x_trend, y_trend, label='Linear Trend', color='red')\n",
        "\n",
        "# Optionally, if you want to plot the original data points:\n",
        "plt.scatter(x, y, label='Data Points')\n",
        "\n",
        "plt.xlabel('X-axis')\n",
        "plt.ylabel('Y-axis')\n",
        "plt.title('Linear Trend of Data')\n",
        "plt.legend()\n",
        "plt.show()"
      ],
      "metadata": {
        "id": "DKQXmF7yeWZD",
        "outputId": "dd05feef-45dd-40ce-c17f-b255c60be8c1",
        "colab": {
          "base_uri": "https://localhost:8080/",
          "height": 472
        }
      },
      "execution_count": 11,
      "outputs": [
        {
          "output_type": "display_data",
          "data": {
            "text/plain": [
              "<Figure size 640x480 with 1 Axes>"
            ],
            "image/png": "[encoded data removed]"
          },
          "metadata": {}
        }
      ]
    },
    {
      "cell_type": "code",
      "source": [
        "state = preprocess_state(env.reset()[0])# Add batch dimension\n",
        "total_reward = 0\n",
        "q_values = []\n",
        "while(True):\n",
        "  with torch.no_grad():  # No need to track gradients here\n",
        "    act_values = Q(state)\n",
        "    action = act_values.max(1)[1].item()  # Choose the action with the highest Q-value\n",
        "    q_values.append(act_values.to('cpu').numpy())\n",
        "    next_state, reward, done, _, _ = env.step(action)\n",
        "    total_reward += reward\n",
        "    if done:\n",
        "      break\n",
        "    state = preprocess_state(next_state)\n",
        "print(total_reward)"
      ],
      "metadata": {
        "id": "e8bubS97RbdB",
        "outputId": "d7aead10-aa53-4124-b804-3e2fab4180f7",
        "colab": {
          "base_uri": "https://localhost:8080/"
        }
      },
      "execution_count": 12,
      "outputs": [
        {
          "output_type": "stream",
          "name": "stdout",
          "text": [
            "147.0\n"
          ]
        }
      ]
    }
  ],
  "metadata": {
    "kernelspec": {
      "display_name": "Python 3",
      "name": "python3"
    },
    "language_info": {
      "codemirror_mode": {
        "name": "ipython",
        "version": 3
      },
      "file_extension": ".py",
      "mimetype": "text/x-python",
      "name": "python",
      "nbconvert_exporter": "python",
      "pygments_lexer": "ipython3",
      "version": "3.10.12"
    },
    "colab": {
      "provenance": []
    }
  },
  "nbformat": 4,
  "nbformat_minor": 0
}
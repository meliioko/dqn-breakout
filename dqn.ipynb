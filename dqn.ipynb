{
  "cells": [
    {
      "cell_type": "markdown",
      "metadata": {
        "execution": {
          "iopub.execute_input": "2023-11-04T12:20:10.465396Z",
          "iopub.status.busy": "2023-11-04T12:20:10.464994Z",
          "iopub.status.idle": "2023-11-04T12:20:22.670564Z",
          "shell.execute_reply": "2023-11-04T12:20:22.669338Z",
          "shell.execute_reply.started": "2023-11-04T12:20:10.465363Z"
        },
        "id": "hLvatxY5Wqp8",
        "trusted": true
      },
      "source": [
        "!pip install -U gym gym[other] tensorflow keras autorom gym[accept-rom-license] gym[atari] torch"
      ]
    },
    {
      "cell_type": "code",
      "execution_count": 1,
      "metadata": {
        "execution": {
          "iopub.execute_input": "2023-11-04T12:20:22.673681Z",
          "iopub.status.busy": "2023-11-04T12:20:22.673289Z",
          "iopub.status.idle": "2023-11-04T12:20:22.678717Z",
          "shell.execute_reply": "2023-11-04T12:20:22.677771Z",
          "shell.execute_reply.started": "2023-11-04T12:20:22.673641Z"
        },
        "id": "G1gQN86MWotC",
        "trusted": true
      },
      "outputs": [],
      "source": [
        "import numpy as np\n",
        "from collections import deque\n",
        "import gym\n"
      ]
    },
    {
      "cell_type": "code",
      "execution_count": 2,
      "metadata": {
        "execution": {
          "iopub.execute_input": "2023-11-04T12:20:22.680207Z",
          "iopub.status.busy": "2023-11-04T12:20:22.679923Z",
          "iopub.status.idle": "2023-11-04T12:20:22.874992Z",
          "shell.execute_reply": "2023-11-04T12:20:22.874041Z",
          "shell.execute_reply.started": "2023-11-04T12:20:22.680183Z"
        },
        "id": "a3TBeAMFWotH",
        "trusted": true
      },
      "outputs": [
        {
          "name": "stderr",
          "output_type": "stream",
          "text": [
            "A.L.E: Arcade Learning Environment (version 0.8.1+53f58b7)\n",
            "[Powered by Stella]\n",
            "/home/meliioko/dqn-breakout/.venv/lib/python3.10/site-packages/gym/utils/passive_env_checker.py:31: UserWarning: \u001b[33mWARN: A Box observation space has an unconventional shape (neither an image, nor a 1D vector). We recommend flattening the observation to have only a 1D vector or use a custom policy to properly process the data. Actual observation shape: (210, 160)\u001b[0m\n",
            "  logger.warn(\n"
          ]
        }
      ],
      "source": [
        "env = gym.make(\"Breakout-v4\", obs_type='grayscale', render_mode='rgb_array', full_action_space=False, frameskip=4)\n",
        "env = gym.wrappers.AtariPreprocessing(env=env, frame_skip=1, terminal_on_life_loss=True)\n",
        "env = gym.wrappers.FrameStack(env=env, num_stack=4)\n",
        "# env = gym.wrappers.RecordVideo(env, 'videos', episode_trigger= lambda x : x % 30 == 0)\n"
      ]
    },
    {
      "cell_type": "code",
      "execution_count": 2,
      "metadata": {},
      "outputs": [
        {
          "ename": "NameError",
          "evalue": "name 'env' is not defined",
          "output_type": "error",
          "traceback": [
            "\u001b[0;31m---------------------------------------------------------------------------\u001b[0m",
            "\u001b[0;31mNameError\u001b[0m                                 Traceback (most recent call last)",
            "\u001b[1;32m/home/meliioko/dqn-breakout/dqn.ipynb Cell 4\u001b[0m line \u001b[0;36m8\n\u001b[1;32m      <a href='vscode-notebook-cell://wsl%2Bubuntu/home/meliioko/dqn-breakout/dqn.ipynb#X11sdnNjb2RlLXJlbW90ZQ%3D%3D?line=5'>6</a>\u001b[0m         axs[i]\u001b[39m.\u001b[39mimshow(im[i])\n\u001b[1;32m      <a href='vscode-notebook-cell://wsl%2Bubuntu/home/meliioko/dqn-breakout/dqn.ipynb#X11sdnNjb2RlLXJlbW90ZQ%3D%3D?line=6'>7</a>\u001b[0m         fig\u001b[39m.\u001b[39mshow()\n\u001b[0;32m----> <a href='vscode-notebook-cell://wsl%2Bubuntu/home/meliioko/dqn-breakout/dqn.ipynb#X11sdnNjb2RlLXJlbW90ZQ%3D%3D?line=7'>8</a>\u001b[0m state \u001b[39m=\u001b[39m env\u001b[39m.\u001b[39mreset()[\u001b[39m0\u001b[39m]\n\u001b[1;32m      <a href='vscode-notebook-cell://wsl%2Bubuntu/home/meliioko/dqn-breakout/dqn.ipynb#X11sdnNjb2RlLXJlbW90ZQ%3D%3D?line=8'>9</a>\u001b[0m print_image(state)\n\u001b[1;32m     <a href='vscode-notebook-cell://wsl%2Bubuntu/home/meliioko/dqn-breakout/dqn.ipynb#X11sdnNjb2RlLXJlbW90ZQ%3D%3D?line=9'>10</a>\u001b[0m \u001b[39mfor\u001b[39;00m _ \u001b[39min\u001b[39;00m \u001b[39mrange\u001b[39m(\u001b[39m20\u001b[39m):\n",
            "\u001b[0;31mNameError\u001b[0m: name 'env' is not defined"
          ]
        }
      ],
      "source": [
        "import matplotlib.pyplot as plt\n",
        "import random\n",
        "def print_image(im):\n",
        "    fig, axs = plt.subplots(1, 4, figsize=(50,50))\n",
        "    for i in range(4):\n",
        "        axs[i].imshow(im[i])\n",
        "        fig.show()\n",
        "state = env.reset()[0]\n",
        "print_image(state)\n",
        "for _ in range(20):\n",
        "    state, _,_,_,_, = env.step(random.randrange(4))\n",
        "    print_image(state)\n"
      ]
    },
    {
      "cell_type": "code",
      "execution_count": 2,
      "metadata": {},
      "outputs": [
        {
          "name": "stderr",
          "output_type": "stream",
          "text": [
            "A.L.E: Arcade Learning Environment (version 0.8.1+53f58b7)\n",
            "[Powered by Stella]\n",
            "/home/meliioko/dqn-breakout/.venv/lib/python3.10/site-packages/gym/utils/passive_env_checker.py:31: UserWarning: \u001b[33mWARN: A Box observation space has an unconventional shape (neither an image, nor a 1D vector). We recommend flattening the observation to have only a 1D vector or use a custom policy to properly process the data. Actual observation shape: (210, 160)\u001b[0m\n",
            "  logger.warn(\n",
            "/home/meliioko/dqn-breakout/.venv/lib/python3.10/site-packages/gym/wrappers/record_video.py:75: UserWarning: \u001b[33mWARN: Overwriting existing videos at /home/meliioko/dqn-breakout/test_videos folder (try specifying a different `video_folder` for the `RecordVideo` wrapper if this is not desired)\u001b[0m\n",
            "  logger.warn(\n",
            "/home/meliioko/dqn-breakout/.venv/lib/python3.10/site-packages/gym/utils/passive_env_checker.py:233: DeprecationWarning: `np.bool8` is a deprecated alias for `np.bool_`.  (Deprecated NumPy 1.24)\n",
            "  if not isinstance(terminated, (bool, np.bool8)):\n",
            "/home/meliioko/dqn-breakout/.venv/lib/python3.10/site-packages/gym/utils/passive_env_checker.py:289: UserWarning: \u001b[33mWARN: No render fps was declared in the environment (env.metadata['render_fps'] is None or not defined), rendering may occur at inconsistent fps.\u001b[0m\n",
            "  logger.warn(\n"
          ]
        },
        {
          "name": "stdout",
          "output_type": "stream",
          "text": [
            "Moviepy - Building video /home/meliioko/dqn-breakout/test_videos/rl-video-episode-0.mp4.\n",
            "Moviepy - Writing video /home/meliioko/dqn-breakout/test_videos/rl-video-episode-0.mp4\n",
            "\n"
          ]
        },
        {
          "name": "stderr",
          "output_type": "stream",
          "text": [
            "                                                                "
          ]
        },
        {
          "name": "stdout",
          "output_type": "stream",
          "text": [
            "Moviepy - Done !\n",
            "Moviepy - video ready /home/meliioko/dqn-breakout/test_videos/rl-video-episode-0.mp4\n",
            "12.0\n"
          ]
        },
        {
          "name": "stderr",
          "output_type": "stream",
          "text": [
            "\r"
          ]
        }
      ],
      "source": [
        "import torch\n",
        "from dqn import DQN, preprocess_state\n",
        "\n",
        "device = torch.device('cuda')\n",
        "env = gym.make(\"Breakout-v4\", obs_type='grayscale', render_mode='rgb_array', full_action_space=False, frameskip=4)\n",
        "env = gym.wrappers.AtariPreprocessing(env=env, frame_skip=1, terminal_on_life_loss=True)\n",
        "env = gym.wrappers.FrameStack(env=env, num_stack=4)\n",
        "env = gym.wrappers.RecordVideo(env, 'test_videos',)\n",
        "\n",
        "device = torch.device(\"cuda\")\n",
        "Q = DQN(env.action_space.n)\n",
        "Q.load_state_dict(torch.load('Q_v2_final.pt'))\n",
        "Q.to(device)\n",
        "\n",
        "state = preprocess_state(env.reset()[0], device)\n",
        "done = False\n",
        "total_reward = 0\n",
        "state, reward, done, _, b = env.step(action=1)\n",
        "\n",
        "\n",
        "state = preprocess_state(state, device)\n",
        "total_reward += reward\n",
        "while not done:\n",
        "    with torch.no_grad():  # No need to track gradients here\n",
        "        act_values = Q(state)\n",
        "        action = act_values.max(1)[1].item()  # Choose the action with the highest Q-value\n",
        "    \n",
        "    state, reward, done, _, b = env.step(action=action)\n",
        "    total_reward += reward\n",
        "    state = preprocess_state(state=state, device=device)\n",
        "print(total_reward)\n"
      ]
    },
    {
      "cell_type": "code",
      "execution_count": null,
      "metadata": {},
      "outputs": [],
      "source": []
    }
  ],
  "metadata": {
    "accelerator": "GPU",
    "colab": {
      "gpuType": "T4",
      "provenance": []
    },
    "kernelspec": {
      "display_name": "Python 3",
      "name": "python3"
    },
    "language_info": {
      "codemirror_mode": {
        "name": "ipython",
        "version": 3
      },
      "file_extension": ".py",
      "mimetype": "text/x-python",
      "name": "python",
      "nbconvert_exporter": "python",
      "pygments_lexer": "ipython3",
      "version": "3.10.12"
    }
  },
  "nbformat": 4,
  "nbformat_minor": 0
}
